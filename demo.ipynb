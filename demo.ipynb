{
 "cells": [
  {
   "cell_type": "markdown",
   "metadata": {
    "jupyter": {
     "outputs_hidden": true
    }
   },
   "source": [
    "[![Open In Colab](https://raw.githubusercontent.com/eliewolfe/UnifiedInflation/main/external/colab_badge.svg)](https://colab.research.google.com/github/eliewolfe/UnifiedInflation)\n",
    "[![Binder](https://binder.pangeo.io/badge_logo.svg)](https://binder.pangeo.io/v2/gh/eliewolfe/UnifiedInflation/main)"
   ]
  },
  {
   "cell_type": "markdown",
   "metadata": {},
   "source": [
    "Let's try to get some sample code working for the graph\n",
    "![Unrelated Counfounders Instrumental Scenario](notes/UC_Instrumental.png)"
   ]
  },
  {
   "cell_type": "code",
   "execution_count": 1,
   "metadata": {},
   "outputs": [],
   "source": [
    "# In the hypergraph structure each rows corresponds to a latent variable, columns to observed variables.\n",
    "# A one in the matrix means that latent variable (row) has that observable variable (column) as a child\n",
    "# The hypergraphs structure ONLY pertains to observed variables, in this case, BCD.\n",
    "hypergraph_structure = [\n",
    "[1, 1, 0],\n",
    "[0, 1, 1]]                       "
   ]
  },
  {
   "cell_type": "code",
   "execution_count": 2,
   "metadata": {},
   "outputs": [],
   "source": [
    "# We also need to account for the directed edges between observable variables\n",
    "#Here, B points to C and D\n",
    "directed_structure = [\n",
    "    [0, 1, 1],\n",
    "    [0, 0, 0],\n",
    "    [0, 0, 0]]"
   ]
  },
  {
   "cell_type": "code",
   "execution_count": 7,
   "metadata": {},
   "outputs": [],
   "source": [
    "# We then need a specification of cardinalities of observed (outcome) variables \n",
    "outcome_cardinalities = (2, 2, 2)\n",
    "# and a specification of their PRIVATE setting variables\n",
    "private_setting_cardinalities = (2, 1, 1)"
   ]
  },
  {
   "cell_type": "code",
   "execution_count": 8,
   "metadata": {},
   "outputs": [],
   "source": [
    "from inflation import *\n",
    "transformed_problem = DAG(hypergraph_structure, directed_structure, outcome_cardinalities, private_setting_cardinalities)"
   ]
  },
  {
   "cell_type": "code",
   "execution_count": 9,
   "metadata": {},
   "outputs": [
    {
     "data": {
      "text/plain": [
       "(2, 2, 2)"
      ]
     },
     "execution_count": 9,
     "metadata": {},
     "output_type": "execute_result"
    }
   ],
   "source": [
    "# In the interrupted graph we find that the hypergraph_structure is preserved, the directed structure is eliminated, and we now have effective setting cardinalities\n",
    "transformed_problem.setting_cardinalities "
   ]
  },
  {
   "cell_type": "code",
   "execution_count": 12,
   "metadata": {},
   "outputs": [
    {
     "name": "stdout",
     "output_type": "stream",
     "text": [
      "(2, 2, 2, 2, 2, 2)\n"
     ]
    },
    {
     "data": {
      "text/plain": [
       "(array([  0,   1,   2,   3,   4,   5,   6,   7,   8,   9,  10,  11,  12,\n",
       "         15,  18,  21,  24,  25,  27,  28,  30,  31,  33,  34,  36,  38,\n",
       "         39,  41,  42,  44,  45,  47,  48,  50,  51,  53,  54,  56,  57,\n",
       "         59,  60,  61,  63,  64,  66,  67,  69,  70,  72,  75,  78,  81,\n",
       "         84,  85,  86,  87,  88,  89,  90,  91,  92,  93,  94,  95,  96,\n",
       "         97,  98,  99, 100, 101, 102, 103, 104, 105, 106, 107, 108, 111,\n",
       "        114, 117, 120, 121, 123, 124, 126, 127, 129, 130, 132, 134, 135,\n",
       "        137, 138, 140, 141, 143, 144, 146, 147, 149, 150, 152, 153, 155,\n",
       "        156, 157, 159, 160, 162, 163, 165, 166, 168, 171, 174, 177, 180,\n",
       "        181, 182, 183, 184, 185, 186, 187, 188, 189, 190, 191], dtype=int64),)"
      ]
     },
     "execution_count": 12,
     "metadata": {},
     "output_type": "execute_result"
    }
   ],
   "source": [
    "# Finally, we need to obtain a list of KNOWABLE MOMENTS\n",
    "# The usual format of moments are indexed by SETTING TUPLE followed by OUTCOME TUPLE\n",
    "# all_moments_shape = transformed_problem.setting_cardinalities + outcome_cardinalities\n",
    "print(transformed_problem.all_moments_shape)\n",
    "transformed_problem.knowable_original_probabilities"
   ]
  }
 ],
 "metadata": {
  "kernelspec": {
   "display_name": "idp",
   "language": "python",
   "name": "idp"
  },
  "language_info": {
   "codemirror_mode": {
    "name": "ipython",
    "version": 3
   },
   "file_extension": ".py",
   "mimetype": "text/x-python",
   "name": "python",
   "nbconvert_exporter": "python",
   "pygments_lexer": "ipython3",
   "version": "3.7.9"
  }
 },
 "nbformat": 4,
 "nbformat_minor": 4
}
